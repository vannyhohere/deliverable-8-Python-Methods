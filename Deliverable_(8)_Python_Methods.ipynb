{
  "nbformat": 4,
  "nbformat_minor": 0,
  "metadata": {
    "colab": {
      "provenance": []
    },
    "kernelspec": {
      "name": "python3",
      "display_name": "Python 3"
    },
    "language_info": {
      "name": "python"
    }
  },
  "cells": [
    {
      "cell_type": "code",
      "execution_count": 1,
      "metadata": {
        "id": "06SvZDm8kwAH"
      },
      "outputs": [],
      "source": [
        "import random"
      ]
    },
    {
      "cell_type": "code",
      "source": [
        "def method1(length):\n",
        "    return [random.randint(10, 50) for _ in range(length)]\n",
        "\n",
        "def method2(lst):\n",
        "    return sum(lst)"
      ],
      "metadata": {
        "id": "Bl9jGJTHk7fL"
      },
      "execution_count": 2,
      "outputs": []
    },
    {
      "cell_type": "code",
      "source": [
        "while True:\n",
        "    user_input = input(\"Please enter an integer between 5 and 15: \")\n",
        "    if user_input.isdigit():\n",
        "        user_input = int(user_input)\n",
        "        if 5 <= user_input <= 15:\n",
        "            break\n",
        "    print(\"Invalid input. Please try again.\")"
      ],
      "metadata": {
        "colab": {
          "base_uri": "https://localhost:8080/"
        },
        "id": "VAEmFFJok9eC",
        "outputId": "92056c32-6ac9-44ee-fc4b-6225ef8bf589"
      },
      "execution_count": 5,
      "outputs": [
        {
          "name": "stdout",
          "output_type": "stream",
          "text": [
            "Please enter an integer between 5 and 15: 7\n"
          ]
        }
      ]
    },
    {
      "cell_type": "code",
      "source": [
        "array = method1(user_input)\n",
        "print(\"The elements of the array are:\", \" \".join(str(x) for x in array))\n",
        "print(\"The sum is:\", method2(array))"
      ],
      "metadata": {
        "colab": {
          "base_uri": "https://localhost:8080/"
        },
        "id": "qWBbWmbXqTnP",
        "outputId": "4e393b54-6007-4de8-e66f-8ac53cb7594f"
      },
      "execution_count": 6,
      "outputs": [
        {
          "output_type": "stream",
          "name": "stdout",
          "text": [
            "The elements of the array are: 28 18 16 13 41 19 22\n",
            "The sum is: 157\n"
          ]
        }
      ]
    }
  ]
}